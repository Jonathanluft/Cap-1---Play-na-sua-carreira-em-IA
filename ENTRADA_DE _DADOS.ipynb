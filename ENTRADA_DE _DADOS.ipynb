{
 "cells": [
  {
   "cell_type": "code",
   "execution_count": null,
   "id": "2a2b466f",
   "metadata": {},
   "outputs": [
    {
     "name": "stdout",
     "output_type": "stream",
     "text": [
      "Insira a area em metros quadrados da plantacao (somente numeros):5\n"
     ]
    }
   ],
   "source": [
    "import math\n",
    "area = 0\n",
    "while True:\n",
    "    try:\n",
    "        area = int(input('Insira a area em metros quadrados da plantacao (somente numeros):'))\n",
    "        continue_inputs = True\n",
    "        break\n",
    "    except:\n",
    "        resposta1 = int(input('O valor escolhido invalido, aperte 0 para escolher novamente e 1 para sair:'))\n",
    "        print(resposta1)\n",
    "        if resposta1 == 1:\n",
    "            continue_inputs = False\n",
    "            break\n",
    "\n",
    "while type(area) == int and continue_inputs:\n",
    "    try:\n",
    "        cultura = int(input('Escolha a cultura: 1 - Batata | 2 - Morango:'))\n",
    "        if cultura == 1 or cultura == 2:\n",
    "            print(cultura)\n",
    "            break\n",
    "    except:\n",
    "        resposta2 = int(input('O valor escolhido invalido, aperte 0 para escolher novamente e 1 para sair'))\n",
    "        if resposta2 == 1:\n",
    "            print(resposta2)\n",
    "            break\n",
    "            \n",
    "print(\"\\nDados registrados com sucesso!\")\n",
    "print(f\"Área: {area} m²\")\n",
    "print(f\"Cultura: {'Batata' if cultura == 1 else 'Morango'}\")\n",
    "\n",
    "#calculos\n",
    "#batata 700mL/1m de fertilizante de fosfato forma da area: quadrado\n",
    "#5 ruas para pulverizar com trator\n",
    "quantidade_insumo_batata = (math.sqrt(area) * 0.7)*4\n",
    "quantidade_por_aplicacao_batata = quantidade_insumo/5\n",
    "\n",
    "#morango 450mL/1m inseticida Organofosforado forma da area: quadrado\n",
    "#5 ruas para pulverizar com trator\n",
    "#quantidade_insumo_morango = (raiz area * 0.45)*2\n",
    "#quantidade_por_aplicacao_morango = quantidade_insumo/5\n",
    "\n",
    "\n",
    "\n"
   ]
  }
 ],
 "metadata": {
  "kernelspec": {
   "display_name": "Python 3 (ipykernel)",
   "language": "python",
   "name": "python3"
  },
  "language_info": {
   "codemirror_mode": {
    "name": "ipython",
    "version": 3
   },
   "file_extension": ".py",
   "mimetype": "text/x-python",
   "name": "python",
   "nbconvert_exporter": "python",
   "pygments_lexer": "ipython3",
   "version": "3.11.4"
  }
 },
 "nbformat": 4,
 "nbformat_minor": 5
}
