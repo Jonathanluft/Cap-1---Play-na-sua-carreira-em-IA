{
 "cells": [
  {
   "cell_type": "code",
   "execution_count": 4,
   "id": "2a2b466f",
   "metadata": {},
   "outputs": [
    {
     "name": "stdout",
     "output_type": "stream",
     "text": [
      "Insira a area em metros quadrados da plantacao (somente numeros)1\n",
      "\n",
      "Dados registrados com sucesso!\n",
      "Área: 1 m²\n",
      "Cultura: Morango\n"
     ]
    }
   ],
   "source": [
    "\n",
    "while True:\n",
    "    try:\n",
    "        area = int(input('Insira a area em metros quadrados da plantacao (somente numeros)'))\n",
    "        break\n",
    "    except:\n",
    "        resposta1 = int(input('O valor escolhido invalido, aperte 0 para escolher novamente e 1 para sair'))\n",
    "        if resposta1 == 1:\n",
    "            break\n",
    "\n",
    "while area == int:\n",
    "    try:\n",
    "        cultura = int(input('Escolha a cultura: 1 - Batata | 2 - Morango'))\n",
    "        if cultura == 1 or cultura == 2:\n",
    "            break\n",
    "    except:\n",
    "        resposta2 = int(input('O valor escolhido invalido, aperte 0 para escolher novamente e 1 para sair'))\n",
    "        if resposta2 == 1:\n",
    "            break\n",
    "\n",
    "print(\"\\nDados registrados com sucesso!\")\n",
    "print(f\"Área: {area} m²\")\n",
    "print(f\"Cultura: {'Batata' if cultura == 1 else 'Morango'}\")"
   ]
  }
 ],
 "metadata": {
  "kernelspec": {
   "display_name": "Python 3 (ipykernel)",
   "language": "python",
   "name": "python3"
  },
  "language_info": {
   "codemirror_mode": {
    "name": "ipython",
    "version": 3
   },
   "file_extension": ".py",
   "mimetype": "text/x-python",
   "name": "python",
   "nbconvert_exporter": "python",
   "pygments_lexer": "ipython3",
   "version": "3.11.4"
  }
 },
 "nbformat": 4,
 "nbformat_minor": 5
}
