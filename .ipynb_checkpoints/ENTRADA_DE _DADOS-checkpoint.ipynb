{
 "cells": [
  {
   "cell_type": "code",
   "execution_count": 2,
   "id": "2a2b466f",
   "metadata": {},
   "outputs": [
    {
     "name": "stdout",
     "output_type": "stream",
     "text": [
      "Insira a area em metros quadrados da plantacao (somente numeros):100\n",
      "Escolha a cultura: 1 - Batata | 2 - Morango:2\n",
      "\n",
      "Dados registrados com sucesso!\n",
      "Área: 100 m²\n",
      "Cultura: Morango\n",
      "[100, 2]\n",
      "14.0\n",
      "2.8\n",
      "9.0\n",
      "1.8\n",
      "aperte 0 para reinciar e 1 para sair1\n",
      "[100, 2]\n"
     ]
    }
   ],
   "source": [
    "import math\n",
    "\n",
    "#repeticao do app\n",
    "while True:\n",
    "    area = 0\n",
    "    while True:\n",
    "        try:\n",
    "            area = int(input('Insira a area em metros quadrados da plantacao (somente numeros):'))\n",
    "            continue_inputs = True\n",
    "            break\n",
    "        except:\n",
    "            resposta1 = int(input('O valor escolhido invalido, aperte 0 para escolher novamente e 1 para sair:'))\n",
    "            if resposta1 == 1:\n",
    "                continue_inputs = False\n",
    "                break\n",
    "\n",
    "    while type(area) == int and continue_inputs:\n",
    "        try:\n",
    "            cultura = int(input('Escolha a cultura: 1 - Batata | 2 - Morango:'))\n",
    "            if cultura == 1 or cultura == 2:\n",
    "                break\n",
    "        except:\n",
    "            resposta2 = int(input('O valor escolhido invalido, aperte 0 para escolher novamente e 1 para sair'))\n",
    "            if resposta2 == 1:\n",
    "                break\n",
    "\n",
    "    print(\"\\nDados registrados com sucesso!\")\n",
    "    print(f\"Área: {area} m²\")\n",
    "    print(f\"Cultura: {'Batata' if cultura == 1 else 'Morango'}\")\n",
    "\n",
    "    #Log de entrada (VETOR)\n",
    "    log = []\n",
    "    log.append(area)\n",
    "    log.append(cultura)\n",
    "    print(log)\n",
    "\n",
    "    #calculos\n",
    "    #batata 700mL/1m de fertilizante de fosfato forma da area: quadrado\n",
    "    #5 ruas para pulverizar com trator\n",
    "    quantidade_insumo_batata = (math.sqrt(area) * 0.7)*2\n",
    "    quantidade_por_aplicacao_batata = quantidade_insumo_batata/5\n",
    "\n",
    "    #morango 450mL/1m inseticida Organofosforado forma da area: quadrado\n",
    "    #5 ruas para pulverizar com trator\n",
    "    quantidade_insumo_morango = (math.sqrt(area)* 0.45)*2\n",
    "    quantidade_por_aplicacao_morango = quantidade_insumo_morango/5\n",
    "\n",
    "    #saidas precisa formatar e deixar apresentavel os valores\n",
    "    print(quantidade_insumo_batata)\n",
    "    print(quantidade_por_aplicacao_batata)\n",
    "    print(quantidade_insumo_morango)\n",
    "    print(quantidade_por_aplicacao_morango)\n",
    "    \n",
    "    resposta3 = int(input('aperte 0 para escokher novamente e 1 para sair'))\n",
    "    if resposta3 == 1:\n",
    "            break\n"
   ]
  }
 ],
 "metadata": {
  "kernelspec": {
   "display_name": "Python 3 (ipykernel)",
   "language": "python",
   "name": "python3"
  },
  "language_info": {
   "codemirror_mode": {
    "name": "ipython",
    "version": 3
   },
   "file_extension": ".py",
   "mimetype": "text/x-python",
   "name": "python",
   "nbconvert_exporter": "python",
   "pygments_lexer": "ipython3",
   "version": "3.11.4"
  }
 },
 "nbformat": 4,
 "nbformat_minor": 5
}
